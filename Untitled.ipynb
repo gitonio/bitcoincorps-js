{
 "cells": [
  {
   "cell_type": "code",
   "execution_count": 63,
   "metadata": {},
   "outputs": [
    {
     "ename": "SyntaxError",
     "evalue": "Identifier 'net' has already been declared",
     "output_type": "error",
     "traceback": [
      "evalmachine.<anonymous>:1",
      "msg = Buffer.from('f9beb4d976657273696f6e00000000006a0000009b228b9e7f1101000f040000000000009341555b000000000f040000000000000000000000000000000000000000000000000f040000000000000000000000000000000000000000000000007256c5439b3aea89142f736f6d652d636f6f6c2d736f6674776172652f0100000001','hex')",
      "^",
      "",
      "SyntaxError: Identifier 'net' has already been declared",
      "    at evalmachine.<anonymous>:1:1",
      "    at ContextifyScript.Script.runInThisContext (vm.js:50:33)",
      "    at Object.runInThisContext (vm.js:139:38)",
      "    at run ([eval]:1002:15)",
      "    at onRunRequest ([eval]:829:18)",
      "    at onMessage ([eval]:789:13)",
      "    at emitTwo (events.js:126:13)",
      "    at process.emit (events.js:214:7)",
      "    at emit (internal/child_process.js:772:12)",
      "    at _combinedTickCallback (internal/process/next_tick.js:141:11)"
     ]
    }
   ],
   "source": [
    "msg = Buffer.from('f9beb4d976657273696f6e00000000006a0000009b228b9e7f1101000f040000000000009341555b000000000f040000000000000000000000000000000000000000000000000f040000000000000000000000000000000000000000000000007256c5439b3aea89142f736f6d652d636f6f6c2d736f6674776172652f0100000001','hex')\n",
    "//socket.on('connect_error',(error) => {console.log('error',error)})\n",
    "//socket.send(msg)\n",
    "//socket.on('event', function(data){});\n",
    "//socket.on('disconnect', function(){console.log('disconnect')});\n",
    "\n",
    "\n",
    "const net = require('net');\n",
    "const client = net.createConnection({ port: 8333, host: \"35.187.200.6\" }, () => {\n",
    "  // 'connect' listener\n",
    "  console.log('connected to server!');\n",
    "  client.write(msg);\n",
    "});\n",
    "client.on('data', (data) => {\n",
    "  console.log(data.toString());\n",
    "  client.end();\n",
    "});\n",
    "client.on('end', () => {\n",
    "  console.log('disconnected from server');\n",
    "});"
   ]
  },
  {
   "cell_type": "code",
   "execution_count": 26,
   "metadata": {},
   "outputs": [
    {
     "name": "stdout",
     "output_type": "stream",
     "text": [
      "<Buffer f9 be b4 d9 76 65 72 73 69 6f 6e 00 00 00 00 00 66 00 00 00 c6 a7 a2 28 7f 11 01 00 0d 04 00 00 00 00 00 00 26 ff 54 5b 00 00 00 00 0f 04 00 00 00 00 ... >\n",
      "4 \"magic\" bytes:  f9beb4d9\n",
      "12 \"command\" bytes:  <Buffer 76 65 72 73 69 6f 6e 00 00 00 00 00>\n",
      "4 \"length\" bytes <Buffer 66 00 00 00>\n",
      "4 \"checksum\" bytes  <Buffer c6 a7 a2 28>\n",
      "102 ' \"payload\" bytes' <Buffer 7f 11 01 00 0d 04 00 00 00 00 00 00 26 ff 54 5b 00 00 00 00 0f 04 00 00 00 00 00 00 00 00 00 00 00 00 00 00 00 00 00 00 00 00 00 00 00 00 0d 04 00 00 ... >\n"
     ]
    }
   ],
   "source": [
    "versionBytes = Buffer.from('f9beb4d976657273696f6e000000000066000000c6a7a2287f1101000d0400000000000026ff545b000000000f040000000000000000000000000000000000000000000000000d0400000000000000000000000000000000000000000000000024fa090ac579f709102f5361746f7368693a302e31362e302fae22080001','hex')\n",
    "console.log(versionBytes)\n",
    "console.log('4 \"magic\" bytes: ', versionBytes.slice(0,4).toString('hex'))\n",
    "console.log('12 \"command\" bytes: ', versionBytes.slice(4,16))\n",
    "payloadLengthBytes = versionBytes.slice(16,20)\n",
    "payloadLength = payloadLengthBytes.readUIntLE(0,3)\n",
    "console.log('4 \"length\" bytes', payloadLengthBytes)\n",
    "console.log('4 \"checksum\" bytes ', versionBytes.slice(20,24))\n",
    "//version_bytes = b'\\xf9\\xbe\\xb4\\xd9version\\x00\\x00\\x00\\x00\\x00f\\x00\\x00\\x00\\xc6\\xa7\\xa2(\\x7f\\x11\\x01\\x00\\r\\x04\\x00\\x00\\x00\\x00\\x00\\x00&\\xffT[\\x00\\x00\\x00\\x00\\x0f\\x04\\x00\\x00\\x00\\x00\\x00\\x00\\x00\\x00\\x00\\x00\\x00\\x00\\x00\\x00\\x00\\x00\\x00\\x00\\x00\\x00\\x00\\x00\\x00\\x00\\r\\x04\\x00\\x00\\x00\\x00\\x00\\x00\\x00\\x00\\x00\\x00\\x00\\x00\\x00\\x00\\x00\\x00\\x00\\x00\\x00\\x00\\x00\\x00\\x00\\x00$\\xfa\\t\\n\\xc5y\\xf7\\t\\x10/Satoshi:0.16.0/\\xae\"\\x08\\x00\\x01'\n",
    "console.log(payloadLength, ' \"payload\" bytes', versionBytes.slice(24, 24+payloadLength))"
   ]
  },
  {
   "cell_type": "code",
   "execution_count": 4,
   "metadata": {},
   "outputs": [
    {
     "ename": "SyntaxError",
     "evalue": "Identifier 'FakeSocket' has already been declared",
     "output_type": "error",
     "traceback": [
      "evalmachine.<anonymous>:1",
      "var Readable = require('stream').Readable",
      "^",
      "",
      "SyntaxError: Identifier 'FakeSocket' has already been declared",
      "    at evalmachine.<anonymous>:1:1",
      "    at ContextifyScript.Script.runInThisContext (vm.js:50:33)",
      "    at Object.runInThisContext (vm.js:139:38)",
      "    at run ([eval]:1002:15)",
      "    at onRunRequest ([eval]:829:18)",
      "    at onMessage ([eval]:789:13)",
      "    at emitTwo (events.js:126:13)",
      "    at process.emit (events.js:214:7)",
      "    at emit (internal/child_process.js:772:12)",
      "    at _combinedTickCallback (internal/process/next_tick.js:141:11)"
     ]
    }
   ],
   "source": [
    "var Readable = require('stream').Readable\n",
    "//from io import BytesIO\n",
    "\n",
    "class FakeSocket {\n",
    "    constructor( bytes ) {\n",
    "        this.readable = new Readable()\n",
    "        this.readable.push(bytes)\n",
    "        this.readable.push(null)\n",
    "\n",
    "    }\n",
    "    \n",
    "    recv(n) {\n",
    "        return this.readable.read(n)\n",
    "    }\n",
    "}\n",
    "    \n",
    "        \n",
    "    \n",
    "    \n"
   ]
  },
  {
   "cell_type": "code",
   "execution_count": 5,
   "metadata": {},
   "outputs": [],
   "source": [
    "function create_version_socket(skip_bytes=0){\n",
    "    \n",
    "\n",
    "    versionBytes = Buffer.from('f9beb4d976657273696f6e000000000066000000c6a7a2287f1101000d0400000000000026ff545b000000000f040000000000000000000000000000000000000000000000000d0400000000000000000000000000000000000000000000000024fa090ac579f709102f5361746f7368693a302e31362e302fae22080001','hex')\n",
    "    return new FakeSocket(versionBytes.slice(skip_bytes, versionBytes.length))\n",
    "}"
   ]
  },
  {
   "cell_type": "code",
   "execution_count": 64,
   "metadata": {},
   "outputs": [
    {
     "name": "stdout",
     "output_type": "stream",
     "text": [
      "4 \"magic\" bytes:  f9beb4d9\n",
      "12 \"command\" bytes:  <Buffer 76 65 72 73 69 6f 6e 00 00 00 00 00>\n",
      "4 \"length\" bytes <Buffer 66 00 00 00>\n",
      "4 \"checksum\" bytes  <Buffer c6 a7 a2 28>\n",
      "102 ' \"payload\" bytes' <Buffer 7f 11 01 00 0d 04 00 00 00 00 00 00 26 ff 54 5b 00 00 00 00 0f 04 00 00 00 00 00 00 00 00 00 00 00 00 00 00 00 00 00 00 00 00 00 00 00 00 0d 04 00 00 ... >\n"
     ]
    }
   ],
   "source": [
    "sock = create_version_socket()\n",
    "console.log('4 \"magic\" bytes: ', sock.recv(4).toString('hex'))\n",
    "console.log('12 \"command\" bytes: ', sock.recv(12))\n",
    "payloadLengthBytes = sock.recv(4)\n",
    "payloadLength = payloadLengthBytes.readUIntLE(0,3)\n",
    "console.log('4 \"length\" bytes', payloadLengthBytes)\n",
    "console.log('4 \"checksum\" bytes ', sock.recv(4))\n",
    "//version_bytes = b'\\xf9\\xbe\\xb4\\xd9version\\x00\\x00\\x00\\x00\\x00f\\x00\\x00\\x00\\xc6\\xa7\\xa2(\\x7f\\x11\\x01\\x00\\r\\x04\\x00\\x00\\x00\\x00\\x00\\x00&\\xffT[\\x00\\x00\\x00\\x00\\x0f\\x04\\x00\\x00\\x00\\x00\\x00\\x00\\x00\\x00\\x00\\x00\\x00\\x00\\x00\\x00\\x00\\x00\\x00\\x00\\x00\\x00\\x00\\x00\\x00\\x00\\r\\x04\\x00\\x00\\x00\\x00\\x00\\x00\\x00\\x00\\x00\\x00\\x00\\x00\\x00\\x00\\x00\\x00\\x00\\x00\\x00\\x00\\x00\\x00\\x00\\x00$\\xfa\\t\\n\\xc5y\\xf7\\t\\x10/Satoshi:0.16.0/\\xae\"\\x08\\x00\\x01'\n",
    "console.log(payloadLength, ' \"payload\" bytes', sock.recv(payloadLength))"
   ]
  },
  {
   "cell_type": "code",
   "execution_count": 7,
   "metadata": {},
   "outputs": [
    {
     "name": "stdout",
     "output_type": "stream",
     "text": [
      "NETWORK_MAGIC: 3652501241\n"
     ]
    }
   ],
   "source": [
    "//# hexidecimal integers copied from protocol documentation\n",
    "NETWORK_MAGIC = 0xD9B4BEF9\n",
    "TESTNET_NETWORK_MAGIC = 0x0709110B\n",
    "\n",
    "//# notice this looks like any old integer even though we declared it\n",
    "//# using a hexidecimal notation. Under the hood Python stores every integer\n",
    "//# as base 2 and doesn't care what base integers were initialized in.\n",
    "console.log(\"NETWORK_MAGIC:\", NETWORK_MAGIC)"
   ]
  },
  {
   "cell_type": "code",
   "execution_count": 8,
   "metadata": {},
   "outputs": [
    {
     "name": "stdout",
     "output_type": "stream",
     "text": [
      "Mainnet version message? true\n",
      "Testnet version message? false\n"
     ]
    }
   ],
   "source": [
    "function bytes_to_int(b){\n",
    "    return b.readUIntLE(0,4)    \n",
    "}\n",
    "\n",
    "function readMagic(sock) {\n",
    "    magic_bytes = sock.recv(4)\n",
    "    magic = bytes_to_int(magic_bytes)\n",
    "    return magic\n",
    "    \n",
    "}\n",
    "\n",
    "function isMainnetMsg(sock) {\n",
    "    magic = readMagic(sock)\n",
    "    return magic == NETWORK_MAGIC\n",
    "    \n",
    "}\n",
    "\n",
    "function isTestnetMsg(sock) {\n",
    "    magic = readMagic(sock)\n",
    "    return magic == TESTNET_NETWORK_MAGIC\n",
    "    \n",
    "}\n",
    "\n",
    "\n",
    "console.log(\"Mainnet version message?\", isMainnetMsg(create_version_socket()))\n",
    "console.log(\"Testnet version message?\", isTestnetMsg(create_version_socket()))"
   ]
  },
  {
   "cell_type": "code",
   "execution_count": 56,
   "metadata": {},
   "outputs": [
    {
     "name": "stdout",
     "output_type": "stream",
     "text": [
      "17 'is:'\n",
      "10001 in binary.\n",
      "21 in octal.\n",
      "11 in hexadecimal.\n",
      "type of bin()/oct()/hex()? string number number\n",
      "17 17 17 17\n",
      "17 == 0b10001 == 0o21 == 0x11? true\n"
     ]
    }
   ],
   "source": [
    "n = 17\n",
    "\n",
    "console.log(n, \"is:\")\n",
    "console.log(n.toString(2),\"in binary.\")\n",
    "console.log(n.toString(8),\"in octal.\")\n",
    "console.log(n.toString(16),\"in hexadecimal.\")\n",
    "\n",
    "//# These just print out the string representation of n in a different base\n",
    "console.log(\"type of bin()/oct()/hex()?\", typeof n.toString(2) , typeof (n),typeof (n))\n",
    "console.log(17, 0b10001, 0o21, 0x11)\n",
    "console.log(\"17 == 0b10001 == 0o21 == 0x11?\", 17 == 0b10001 && 0b10001 == 0o21 && 0o21 == 0x11)"
   ]
  },
  {
   "cell_type": "code",
   "execution_count": 36,
   "metadata": {},
   "outputs": [
    {
     "name": "stdout",
     "output_type": "stream",
     "text": [
      "76\n",
      "65\n",
      "72\n",
      "73\n",
      "69\n",
      "6f\n",
      "6e\n",
      "0\n",
      "0\n",
      "0\n",
      "0\n",
      "0\n",
      "Command :  <Buffer 76 65 72 73 69 6f 6e>\n",
      "76\n",
      "65\n",
      "72\n",
      "73\n",
      "69\n",
      "6f\n",
      "6e\n",
      "0\n",
      "0\n",
      "0\n",
      "0\n",
      "0\n",
      "<Buffer 76 65 72 73 69 6f 6e> <Buffer 76 65 72 73 69 6f 6e>\n",
      "Is it a 'version' message? false\n",
      "76\n",
      "65\n",
      "72\n",
      "73\n",
      "69\n",
      "6f\n",
      "6e\n",
      "0\n",
      "0\n",
      "0\n",
      "0\n",
      "0\n",
      "Is it a 'verack' message? false\n"
     ]
    }
   ],
   "source": [
    "function read_command(sock) {\n",
    "    raw = sock.recv(12)\n",
    "    //# remove empty bytes\n",
    "    command = raw.filter(obj => {\n",
    "        console.log(obj.toString(16))\n",
    "        return obj != 0\n",
    "    })\n",
    "    return command\n",
    "}\n",
    "\n",
    "function isVersionMsg(sock) {\n",
    "    command = read_command(sock)\n",
    "    console.log(command, Buffer.from(\"version\", 'ascii'))\n",
    "    return Buffer.from(\"version\", 'ascii') == command\n",
    "}\n",
    "\n",
    "function isVerackMsg(sock) {\n",
    "    command = read_command(sock)\n",
    "    return Buffer.from(\"verack\", 'ascii') == command\n",
    "}\n",
    "//# Throw away the first 4 bytes (the magic)\n",
    "sock = create_version_socket(skip_bytes=4)\n",
    "command = read_command(sock)\n",
    "console.log(\"Command : \", command)\n",
    "\n",
    "sock = create_version_socket(skip_bytes=4)\n",
    "console.log(\"Is it a 'version' message?\", isVersionMsg(sock))\n",
    "\n",
    "sock = create_version_socket(skip_bytes=4)\n",
    "console.log(\"Is it a 'verack' message?\", isVerackMsg(sock))"
   ]
  },
  {
   "cell_type": "code",
   "execution_count": 6,
   "metadata": {},
   "outputs": [
    {
     "ename": "SyntaxError",
     "evalue": "Invalid or unexpected token",
     "output_type": "error",
     "traceback": [
      "evalmachine.<anonymous>:1",
      "#$$.png(require(\"fs\").readFileSync(\"alice.png\").toString(\"base64\"));",
      "^",
      "",
      "SyntaxError: Invalid or unexpected token",
      "    at createScript (vm.js:80:10)",
      "    at Object.runInThisContext (vm.js:139:10)",
      "    at run ([eval]:1002:15)",
      "    at onRunRequest ([eval]:829:18)",
      "    at onMessage ([eval]:789:13)",
      "    at emitTwo (events.js:126:13)",
      "    at process.emit (events.js:214:7)",
      "    at emit (internal/child_process.js:772:12)",
      "    at _combinedTickCallback (internal/process/next_tick.js:141:11)",
      "    at process._tickCallback (internal/process/next_tick.js:180:9)"
     ]
    }
   ],
   "source": [
    "#$$.png(require(\"fs\").readFileSync(\"alice.png\").toString(\"base64\"));\n"
   ]
  },
  {
   "cell_type": "code",
   "execution_count": 4,
   "metadata": {},
   "outputs": [
    {
     "ename": "SyntaxError",
     "evalue": "Unexpected identifier",
     "output_type": "error",
     "traceback": [
      "evalmachine.<anonymous>:1",
      "from IPython.display import HTML, Javascript, display",
      "     ^^^^^^^",
      "",
      "SyntaxError: Unexpected identifier",
      "    at createScript (vm.js:80:10)",
      "    at Object.runInThisContext (vm.js:139:10)",
      "    at run ([eval]:1002:15)",
      "    at onRunRequest ([eval]:829:18)",
      "    at onMessage ([eval]:789:13)",
      "    at emitTwo (events.js:126:13)",
      "    at process.emit (events.js:214:7)",
      "    at emit (internal/child_process.js:772:12)",
      "    at _combinedTickCallback (internal/process/next_tick.js:141:11)",
      "    at process._tickCallback (internal/process/next_tick.js:180:9)"
     ]
    }
   ],
   "source": [
    "from IPython.display import HTML, Javascript, display\n",
    "js = \"\"\"window.audiencePopup = window.open('http://www.heise.de','audienceWindow');\"\"\"\n",
    "display(Javascript(js))"
   ]
  },
  {
   "cell_type": "code",
   "execution_count": 33,
   "metadata": {},
   "outputs": [
    {
     "data": {
      "text/html": [
       "<img src='alice.png' style='width:160px; height:200px;'/>"
      ]
     },
     "execution_count": 33,
     "metadata": {},
     "output_type": "execute_result"
    }
   ],
   "source": [
    "$$.html(\"<img src='alice.png' style='width:160px; height:200px;'/>\")\n",
    "$$.input(\"Please, type your name and press enter: \")\n",
    "    .then((name) => {\n",
    "        console.log('name:',name)\n",
    "    });"
   ]
  },
  {
   "cell_type": "code",
   "execution_count": 28,
   "metadata": {},
   "outputs": [
    {
     "name": "stdout",
     "output_type": "stream",
     "text": [
      "y\n"
     ]
    },
    {
     "data": {
      "text/plain": [
       "'y'"
      ]
     },
     "execution_count": 28,
     "metadata": {},
     "output_type": "execute_result"
    }
   ],
   "source": [
    "is_valid = $$.input('Is the signature valid?');"
   ]
  },
  {
   "cell_type": "code",
   "execution_count": 31,
   "metadata": {},
   "outputs": [
    {
     "name": "stdout",
     "output_type": "stream",
     "text": [
      "Antonio\n",
      "name: Antonio\n"
     ]
    }
   ],
   "source": [
    "$$.input(\"Please, type your name and press enter: \")\n",
    "    .then((name) => {\n",
    "        console.log('name:',name)\n",
    "    });"
   ]
  },
  {
   "cell_type": "code",
   "execution_count": 30,
   "metadata": {},
   "outputs": [
    {
     "data": {
      "text/plain": [
       "'y'"
      ]
     },
     "execution_count": 30,
     "metadata": {},
     "output_type": "execute_result"
    }
   ],
   "source": [
    "is_valid"
   ]
  },
  {
   "cell_type": "code",
   "execution_count": null,
   "metadata": {},
   "outputs": [],
   "source": []
  }
 ],
 "metadata": {
  "kernelspec": {
   "display_name": "Javascript (Node.js)",
   "language": "javascript",
   "name": "javascript"
  },
  "language_info": {
   "file_extension": ".js",
   "mimetype": "application/javascript",
   "name": "javascript",
   "version": "8.11.1"
  }
 },
 "nbformat": 4,
 "nbformat_minor": 2
}
